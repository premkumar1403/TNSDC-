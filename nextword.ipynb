
Next Word Prediction:
Importing The Required Libraries:
import tensorflow as tf
from tensorflow.keras.preprocessing.text import Tokenizer
from tensorflow.keras.layers import Embedding, LSTM, Dense
from tensorflow.keras.models import Sequential
from tensorflow.keras.utils import to_categorical
from tensorflow.keras.optimizers import Adam
import pickle
import numpy as np
import os
"""
    Dataset: http://www.gutenberg.org/cache/epub/5200/pg5200.txt
    Remove all the unnecessary data and label it as Metamorphosis-clean.
    The starting and ending lines should be as follows.

"""


file = open("metamorphosis_clean.txt", "r", encoding = "utf8")
lines = []

for i in file:
    lines.append(i)
    
print("The First Line: ", lines[0])
print("The Last Line: ", lines[-1])
The First Line:  ﻿One morning, when Gregor Samsa woke from troubled dreams, he found

The Last Line:  first to get up and stretch out her young body.
Cleaning the data:
data = ""

for i in lines:
    data = ' '. join(lines)
    
data = data.replace('\n', '').replace('\r', '').replace('\ufeff', '')
data[:360]
'One morning, when Gregor Samsa woke from troubled dreams, he found himself transformed in his bed into a horrible vermin.  He lay on his armour-like back, and if he lifted his head a little he could see his brown belly, slightly domed and divided by arches into stiff sections.  The bedding was hardly able to cover it and seemed ready to slide off any moment.'
import string

translator = str.maketrans(string.punctuation, ' '*len(string.punctuation)) #map punctuation to space
new_data = data.translate(translator)

new_data[:500]
'One morning  when Gregor Samsa woke from troubled dreams  he found himself transformed in his bed into a horrible vermin   He lay on his armour like back  and if he lifted his head a little he could see his brown belly  slightly domed and divided by arches into stiff sections   The bedding was hardly able to cover it and seemed ready to slide off any moment   His many legs  pitifully thin compared with the size of the rest of him  waved about helplessly as he looked    What s happened to me   he'
z = []

for i in data.split():
    if i not in z:
        z.append(i)
        
data = ' '.join(z)
data[:500]
'One morning, when Gregor Samsa woke from troubled dreams, he found himself transformed in his bed into a horrible vermin. He lay on armour-like back, and if lifted head little could see brown belly, slightly domed divided by arches stiff sections. The bedding was hardly able to cover it seemed ready slide off any moment. His many legs, pitifully thin compared with the size of rest him, waved about helplessly as looked. "What\'s happened me?" thought. It wasn\'t dream. room, proper human room altho'
Tokenization:
tokenizer = Tokenizer()
tokenizer.fit_on_texts([data])

# saving the tokenizer for predict function.
pickle.dump(tokenizer, open('tokenizer1.pkl', 'wb'))

sequence_data = tokenizer.texts_to_sequences([data])[0]
sequence_data[:10]
[17, 53, 293, 2, 18, 729, 135, 730, 294, 8]
vocab_size = len(tokenizer.word_index) + 1
print(vocab_size)
2617
sequences = []

for i in range(1, len(sequence_data)):
    words = sequence_data[i-1:i+1]
    sequences.append(words)
    
print("The Length of sequences are: ", len(sequences))
sequences = np.array(sequences)
sequences[:10]
The Length of sequences are:  3889
array([[ 17,  53],
       [ 53, 293],
       [293,   2],
       [  2,  18],
       [ 18, 729],
       [729, 135],
       [135, 730],
       [730, 294],
       [294,   8],
       [  8, 731]])
X = []
y = []

for i in sequences:
    X.append(i[0])
    y.append(i[1])
    
X = np.array(X)
y = np.array(y)
print("The Data is: ", X[:5])
print("The responses are: ", y[:5])
The Data is:  [ 17  53 293   2  18]
The responses are:  [ 53 293   2  18 729]
y = to_categorical(y, num_classes=vocab_size)
y[:5]
array([[0., 0., 0., ..., 0., 0., 0.],
       [0., 0., 0., ..., 0., 0., 0.],
       [0., 0., 1., ..., 0., 0., 0.],
       [0., 0., 0., ..., 0., 0., 0.],
       [0., 0., 0., ..., 0., 0., 0.]], dtype=float32)
Creating the Model:
model = Sequential()
model.add(Embedding(vocab_size, 10, input_length=1))
model.add(LSTM(1000, return_sequences=True))
model.add(LSTM(1000))
model.add(Dense(1000, activation="relu"))
model.add(Dense(vocab_size, activation="softmax"))
model.summary()
Model: "sequential"
_________________________________________________________________
Layer (type)                 Output Shape              Param #   
=================================================================
embedding (Embedding)        (None, 1, 10)             26170     
_________________________________________________________________
lstm (LSTM)                  (None, 1, 1000)           4044000   
_________________________________________________________________
lstm_1 (LSTM)                (None, 1000)              8004000   
_________________________________________________________________
dense (Dense)                (None, 1000)              1001000   
_________________________________________________________________
dense_1 (Dense)              (None, 2617)              2619617   
=================================================================
Total params: 15,694,787
Trainable params: 15,694,787
Non-trainable params: 0
_________________________________________________________________
Plot The Model:
from tensorflow import keras
from keras.utils.vis_utils import plot_model

keras.utils.plot_model(model, to_file='model.png', show_layer_names=True)
Using TensorFlow backend.

Callbacks:
from tensorflow.keras.callbacks import ModelCheckpoint
from tensorflow.keras.callbacks import ReduceLROnPlateau
from tensorflow.keras.callbacks import TensorBoard

checkpoint = ModelCheckpoint("nextword1.h5", monitor='loss', verbose=1,
    save_best_only=True, mode='auto')

reduce = ReduceLROnPlateau(monitor='loss', factor=0.2, patience=3, min_lr=0.0001, verbose = 1)

logdir='logsnextword1'
tensorboard_Visualization = TensorBoard(log_dir=logdir)
Compile The Model:
model.compile(loss="categorical_crossentropy", optimizer=Adam(lr=0.001))
Fit The Model:
model.fit(X, y, epochs=150, batch_size=64, callbacks=[checkpoint, reduce, tensorboard_Visualization])
Train on 3889 samples
Epoch 1/150
3712/3889 [===========================>..] - ETA: 0s - loss: 7.8752
Epoch 00001: loss improved from inf to 7.87560, saving model to nextword1.h5
3889/3889 [==============================] - 5s 1ms/sample - loss: 7.8756
Epoch 2/150
3648/3889 [===========================>..] - ETA: 0s - loss: 7.8587
Epoch 00002: loss improved from 7.87560 to 7.86009, saving model to nextword1.h5
3889/3889 [==============================] - 1s 331us/sample - loss: 7.8601
Epoch 3/150
3648/3889 [===========================>..] - ETA: 0s - loss: 7.8187
Epoch 00003: loss improved from 7.86009 to 7.81623, saving model to nextword1.h5
3889/3889 [==============================] - 1s 372us/sample - loss: 7.8162
Epoch 4/150
3648/3889 [===========================>..] - ETA: 0s - loss: 7.6399
Epoch 00004: loss improved from 7.81623 to 7.63961, saving model to nextword1.h5
3889/3889 [==============================] - 1s 327us/sample - loss: 7.6396
Epoch 5/150
3648/3889 [===========================>..] - ETA: 0s - loss: 7.4280
Epoch 00005: loss improved from 7.63961 to 7.42898, saving model to nextword1.h5
3889/3889 [==============================] - 1s 363us/sample - loss: 7.4290
Epoch 6/150
3648/3889 [===========================>..] - ETA: 0s - loss: 7.2234
Epoch 00006: loss improved from 7.42898 to 7.23395, saving model to nextword1.h5
3889/3889 [==============================] - 1s 335us/sample - loss: 7.2339
Epoch 7/150
3648/3889 [===========================>..] - ETA: 0s - loss: 6.9898
Epoch 00007: loss improved from 7.23395 to 6.99421, saving model to nextword1.h5
3889/3889 [==============================] - 1s 369us/sample - loss: 6.9942
Epoch 8/150
3648/3889 [===========================>..] - ETA: 0s - loss: 6.7034
Epoch 00008: loss improved from 6.99421 to 6.70877, saving model to nextword1.h5
3889/3889 [==============================] - 1s 335us/sample - loss: 6.7088
Epoch 9/150
3648/3889 [===========================>..] - ETA: 0s - loss: 6.4315
Epoch 00009: loss improved from 6.70877 to 6.44175, saving model to nextword1.h5
3889/3889 [==============================] - 1s 304us/sample - loss: 6.4417
Epoch 10/150
3648/3889 [===========================>..] - ETA: 0s - loss: 6.1955
Epoch 00010: loss improved from 6.44175 to 6.21069, saving model to nextword1.h5
3889/3889 [==============================] - 1s 329us/sample - loss: 6.2107
Epoch 11/150
3648/3889 [===========================>..] - ETA: 0s - loss: 6.0073
Epoch 00011: loss improved from 6.21069 to 6.01610, saving model to nextword1.h5
3889/3889 [==============================] - 1s 309us/sample - loss: 6.0161
Epoch 12/150
3648/3889 [===========================>..] - ETA: 0s - loss: 5.8053
Epoch 00012: loss improved from 6.01610 to 5.81236, saving model to nextword1.h5
3889/3889 [==============================] - 1s 346us/sample - loss: 5.8124
Epoch 13/150
3648/3889 [===========================>..] - ETA: 0s - loss: 5.6305
Epoch 00013: loss improved from 5.81236 to 5.64033, saving model to nextword1.h5
3889/3889 [==============================] - 1s 321us/sample - loss: 5.6403
Epoch 14/150
3648/3889 [===========================>..] - ETA: 0s - loss: 5.4578
Epoch 00014: loss improved from 5.64033 to 5.47233, saving model to nextword1.h5
3889/3889 [==============================] - 1s 312us/sample - loss: 5.4723
Epoch 15/150
3648/3889 [===========================>..] - ETA: 0s - loss: 5.2988
Epoch 00015: loss improved from 5.47233 to 5.30519, saving model to nextword1.h5
3889/3889 [==============================] - 1s 343us/sample - loss: 5.3052
Epoch 16/150
3648/3889 [===========================>..] - ETA: 0s - loss: 5.1645
Epoch 00016: loss improved from 5.30519 to 5.17411, saving model to nextword1.h5
3889/3889 [==============================] - 1s 326us/sample - loss: 5.1741
Epoch 17/150
3648/3889 [===========================>..] - ETA: 0s - loss: 5.0464
Epoch 00017: loss improved from 5.17411 to 5.07256, saving model to nextword1.h5
3889/3889 [==============================] - 1s 324us/sample - loss: 5.0726
Epoch 18/150
3648/3889 [===========================>..] - ETA: 0s - loss: 4.9512
Epoch 00018: loss improved from 5.07256 to 4.96286, saving model to nextword1.h5
3889/3889 [==============================] - 1s 332us/sample - loss: 4.9629
Epoch 19/150
3648/3889 [===========================>..] - ETA: 0s - loss: 4.8412
Epoch 00019: loss improved from 4.96286 to 4.85318, saving model to nextword1.h5
3889/3889 [==============================] - 1s 338us/sample - loss: 4.8532
Epoch 20/150
3648/3889 [===========================>..] - ETA: 0s - loss: 4.7396
Epoch 00020: loss improved from 4.85318 to 4.76163, saving model to nextword1.h5
3889/3889 [==============================] - 1s 362us/sample - loss: 4.7616
Epoch 21/150
3648/3889 [===========================>..] - ETA: 0s - loss: 4.6530- ETA: 0s - loss: 4.60
Epoch 00021: loss improved from 4.76163 to 4.67074, saving model to nextword1.h5
3889/3889 [==============================] - 1s 351us/sample - loss: 4.6707
Epoch 22/150
3648/3889 [===========================>..] - ETA: 0s - loss: 4.5669
Epoch 00022: loss improved from 4.67074 to 4.57855, saving model to nextword1.h5
3889/3889 [==============================] - 1s 351us/sample - loss: 4.5785
Epoch 23/150
3648/3889 [===========================>..] - ETA: 0s - loss: 4.4609
Epoch 00023: loss improved from 4.57855 to 4.47391, saving model to nextword1.h5
3889/3889 [==============================] - 1s 341us/sample - loss: 4.4739
Epoch 24/150
3648/3889 [===========================>..] - ETA: 0s - loss: 4.3753
Epoch 00024: loss improved from 4.47391 to 4.39767, saving model to nextword1.h5
3889/3889 [==============================] - 1s 337us/sample - loss: 4.3977
Epoch 25/150
3648/3889 [===========================>..] - ETA: 0s - loss: 4.3182
Epoch 00025: loss improved from 4.39767 to 4.33766, saving model to nextword1.h5
3889/3889 [==============================] - 1s 372us/sample - loss: 4.3377
Epoch 26/150
3648/3889 [===========================>..] - ETA: 0s - loss: 4.2283
Epoch 00026: loss improved from 4.33766 to 4.25059, saving model to nextword1.h5
3889/3889 [==============================] - 1s 349us/sample - loss: 4.2506
Epoch 27/150
3648/3889 [===========================>..] - ETA: 0s - loss: 4.1376
Epoch 00027: loss improved from 4.25059 to 4.15881, saving model to nextword1.h5
3889/3889 [==============================] - 1s 349us/sample - loss: 4.1588
Epoch 28/150
3648/3889 [===========================>..] - ETA: 0s - loss: 4.0388
Epoch 00028: loss improved from 4.15881 to 4.04326, saving model to nextword1.h5
3889/3889 [==============================] - 1s 354us/sample - loss: 4.0433
Epoch 29/150
3648/3889 [===========================>..] - ETA: 0s - loss: 3.9224
Epoch 00029: loss improved from 4.04326 to 3.93666, saving model to nextword1.h5
3889/3889 [==============================] - 1s 348us/sample - loss: 3.9367
Epoch 30/150
3648/3889 [===========================>..] - ETA: 0s - loss: 3.7954
Epoch 00030: loss improved from 3.93666 to 3.81460, saving model to nextword1.h5
3889/3889 [==============================] - 1s 330us/sample - loss: 3.8146
Epoch 31/150
3648/3889 [===========================>..] - ETA: 0s - loss: 3.6849
Epoch 00031: loss improved from 3.81460 to 3.70621, saving model to nextword1.h5
3889/3889 [==============================] - 1s 367us/sample - loss: 3.7062
Epoch 32/150
3648/3889 [===========================>..] - ETA: 0s - loss: 3.5543
Epoch 00032: loss improved from 3.70621 to 3.57647, saving model to nextword1.h5
3889/3889 [==============================] - 1s 338us/sample - loss: 3.5765
Epoch 33/150
3648/3889 [===========================>..] - ETA: 0s - loss: 3.4483
Epoch 00033: loss improved from 3.57647 to 3.45974, saving model to nextword1.h5
3889/3889 [==============================] - 1s 346us/sample - loss: 3.4597
Epoch 34/150
3648/3889 [===========================>..] - ETA: 0s - loss: 3.3385
Epoch 00034: loss improved from 3.45974 to 3.35306, saving model to nextword1.h5
3889/3889 [==============================] - 2s 395us/sample - loss: 3.3531
Epoch 35/150
3648/3889 [===========================>..] - ETA: 0s - loss: 3.2418
Epoch 00035: loss improved from 3.35306 to 3.25955, saving model to nextword1.h5
3889/3889 [==============================] - 1s 321us/sample - loss: 3.2596
Epoch 36/150
3648/3889 [===========================>..] - ETA: 0s - loss: 3.1403
Epoch 00036: loss improved from 3.25955 to 3.15727, saving model to nextword1.h5
3889/3889 [==============================] - 1s 347us/sample - loss: 3.1573
Epoch 37/150
3648/3889 [===========================>..] - ETA: 0s - loss: 3.0100
Epoch 00037: loss improved from 3.15727 to 3.04076, saving model to nextword1.h5
3889/3889 [==============================] - 1s 366us/sample - loss: 3.0408
Epoch 38/150
3648/3889 [===========================>..] - ETA: 0s - loss: 2.9453
Epoch 00038: loss improved from 3.04076 to 2.96700, saving model to nextword1.h5
3889/3889 [==============================] - 1s 321us/sample - loss: 2.9670
Epoch 39/150
3648/3889 [===========================>..] - ETA: 0s - loss: 2.8686
Epoch 00039: loss improved from 2.96700 to 2.89164, saving model to nextword1.h5
3889/3889 [==============================] - 1s 369us/sample - loss: 2.8916
Epoch 40/150
3648/3889 [===========================>..] - ETA: 0s - loss: 2.8006
Epoch 00040: loss improved from 2.89164 to 2.82129, saving model to nextword1.h5
3889/3889 [==============================] - 1s 338us/sample - loss: 2.8213
Epoch 41/150
3648/3889 [===========================>..] - ETA: 0s - loss: 2.7267
Epoch 00041: loss improved from 2.82129 to 2.74699, saving model to nextword1.h5
3889/3889 [==============================] - 1s 352us/sample - loss: 2.7470
Epoch 42/150
3648/3889 [===========================>..] - ETA: 0s - loss: 2.6175
Epoch 00042: loss improved from 2.74699 to 2.64779, saving model to nextword1.h5
3889/3889 [==============================] - 1s 375us/sample - loss: 2.6478
Epoch 43/150
3648/3889 [===========================>..] - ETA: 0s - loss: 2.5763
Epoch 00043: loss improved from 2.64779 to 2.59631, saving model to nextword1.h5
3889/3889 [==============================] - 1s 318us/sample - loss: 2.5963
Epoch 44/150
3648/3889 [===========================>..] - ETA: 0s - loss: 2.5125
Epoch 00044: loss improved from 2.59631 to 2.53560, saving model to nextword1.h5
3889/3889 [==============================] - 1s 366us/sample - loss: 2.5356
Epoch 45/150
3648/3889 [===========================>..] - ETA: 0s - loss: 2.4683
Epoch 00045: loss improved from 2.53560 to 2.48991, saving model to nextword1.h5
3889/3889 [==============================] - 1s 364us/sample - loss: 2.4899
Epoch 46/150
3648/3889 [===========================>..] - ETA: 0s - loss: 2.4373
Epoch 00046: loss improved from 2.48991 to 2.45095, saving model to nextword1.h5
3889/3889 [==============================] - 1s 337us/sample - loss: 2.4509
Epoch 47/150
3648/3889 [===========================>..] - ETA: 0s - loss: 2.3554
Epoch 00047: loss improved from 2.45095 to 2.38200, saving model to nextword1.h5
3889/3889 [==============================] - 1s 340us/sample - loss: 2.3820
Epoch 48/150
3840/3889 [============================>.] - ETA: 0s - loss: 2.3300
Epoch 00048: loss improved from 2.38200 to 2.33441, saving model to nextword1.h5
3889/3889 [==============================] - 1s 374us/sample - loss: 2.3344
Epoch 49/150
3648/3889 [===========================>..] - ETA: 0s - loss: 2.2349
Epoch 00049: loss improved from 2.33441 to 2.26422, saving model to nextword1.h5
3889/3889 [==============================] - 1s 347us/sample - loss: 2.2642
Epoch 50/150
3648/3889 [===========================>..] - ETA: 0s - loss: 2.1906
Epoch 00050: loss improved from 2.26422 to 2.21210, saving model to nextword1.h5
3889/3889 [==============================] - 1s 326us/sample - loss: 2.2121
Epoch 51/150
3648/3889 [===========================>..] - ETA: 0s - loss: 2.1362
Epoch 00051: loss improved from 2.21210 to 2.16222, saving model to nextword1.h5
3889/3889 [==============================] - 1s 363us/sample - loss: 2.1622
Epoch 52/150
3648/3889 [===========================>..] - ETA: 0s - loss: 2.0559
Epoch 00052: loss improved from 2.16222 to 2.07998, saving model to nextword1.h5
3889/3889 [==============================] - 1s 346us/sample - loss: 2.0800
Epoch 53/150
3648/3889 [===========================>..] - ETA: 0s - loss: 2.0071
Epoch 00053: loss improved from 2.07998 to 2.03807, saving model to nextword1.h5
3889/3889 [==============================] - 1s 343us/sample - loss: 2.0381
Epoch 54/150
3648/3889 [===========================>..] - ETA: 0s - loss: 1.9955
Epoch 00054: loss improved from 2.03807 to 2.01186, saving model to nextword1.h5
3889/3889 [==============================] - 1s 363us/sample - loss: 2.0119
Epoch 55/150
3648/3889 [===========================>..] - ETA: 0s - loss: 1.9206
Epoch 00055: loss improved from 2.01186 to 1.94076, saving model to nextword1.h5
3889/3889 [==============================] - 1s 335us/sample - loss: 1.9408
Epoch 56/150
3648/3889 [===========================>..] - ETA: 0s - loss: 1.8732
Epoch 00056: loss improved from 1.94076 to 1.89430, saving model to nextword1.h5
3889/3889 [==============================] - 1s 355us/sample - loss: 1.8943
Epoch 57/150
3648/3889 [===========================>..] - ETA: 0s - loss: 1.8295
Epoch 00057: loss improved from 1.89430 to 1.84639, saving model to nextword1.h5
3889/3889 [==============================] - 1s 341us/sample - loss: 1.8464
Epoch 58/150
3648/3889 [===========================>..] - ETA: 0s - loss: 1.8001
Epoch 00058: loss improved from 1.84639 to 1.81274, saving model to nextword1.h5
3889/3889 [==============================] - 1s 369us/sample - loss: 1.8127
Epoch 59/150
3648/3889 [===========================>..] - ETA: 0s - loss: 1.7316
Epoch 00059: loss improved from 1.81274 to 1.75823, saving model to nextword1.h5
3889/3889 [==============================] - 1s 352us/sample - loss: 1.7582
Epoch 60/150
3648/3889 [===========================>..] - ETA: 0s - loss: 1.7274
Epoch 00060: loss improved from 1.75823 to 1.74511, saving model to nextword1.h5
3889/3889 [==============================] - 1s 334us/sample - loss: 1.7451
Epoch 61/150
3648/3889 [===========================>..] - ETA: 0s - loss: 1.6874
Epoch 00061: loss improved from 1.74511 to 1.69725, saving model to nextword1.h5
3889/3889 [==============================] - 1s 335us/sample - loss: 1.6973
Epoch 62/150
3648/3889 [===========================>..] - ETA: 0s - loss: 1.6354
Epoch 00062: loss improved from 1.69725 to 1.65130, saving model to nextword1.h5
3889/3889 [==============================] - 1s 323us/sample - loss: 1.6513
Epoch 63/150
3648/3889 [===========================>..] - ETA: 0s - loss: 1.5929
Epoch 00063: loss improved from 1.65130 to 1.61970, saving model to nextword1.h5
3889/3889 [==============================] - 1s 324us/sample - loss: 1.6197
Epoch 64/150
3648/3889 [===========================>..] - ETA: 0s - loss: 1.5776
Epoch 00064: loss improved from 1.61970 to 1.59771, saving model to nextword1.h5
3889/3889 [==============================] - 1s 324us/sample - loss: 1.5977
Epoch 65/150
3648/3889 [===========================>..] - ETA: 0s - loss: 1.5653
Epoch 00065: loss improved from 1.59771 to 1.58945, saving model to nextword1.h5
3889/3889 [==============================] - 1s 325us/sample - loss: 1.5895
Epoch 66/150
3648/3889 [===========================>..] - ETA: 0s - loss: 1.5389
Epoch 00066: loss improved from 1.58945 to 1.55059, saving model to nextword1.h5
3889/3889 [==============================] - 1s 380us/sample - loss: 1.5506
Epoch 67/150
3776/3889 [============================>.] - ETA: 0s - loss: 1.4600
Epoch 00067: loss improved from 1.55059 to 1.47310, saving model to nextword1.h5
3889/3889 [==============================] - 1s 360us/sample - loss: 1.4731
Epoch 68/150
3648/3889 [===========================>..] - ETA: 0s - loss: 1.3935
Epoch 00068: loss improved from 1.47310 to 1.41295, saving model to nextword1.h5
3889/3889 [==============================] - 1s 348us/sample - loss: 1.4130
Epoch 69/150
3648/3889 [===========================>..] - ETA: 0s - loss: 1.3613
Epoch 00069: loss improved from 1.41295 to 1.37151, saving model to nextword1.h5
3889/3889 [==============================] - 1s 370us/sample - loss: 1.3715
Epoch 70/150
3648/3889 [===========================>..] - ETA: 0s - loss: 1.3227
Epoch 00070: loss improved from 1.37151 to 1.33558, saving model to nextword1.h5
3889/3889 [==============================] - 1s 358us/sample - loss: 1.3356
Epoch 71/150
3648/3889 [===========================>..] - ETA: 0s - loss: 1.2890
Epoch 00071: loss improved from 1.33558 to 1.31252, saving model to nextword1.h5
3889/3889 [==============================] - 1s 319us/sample - loss: 1.3125
Epoch 72/150
3648/3889 [===========================>..] - ETA: 0s - loss: 1.2673
Epoch 00072: loss improved from 1.31252 to 1.28071, saving model to nextword1.h5
3889/3889 [==============================] - 1s 358us/sample - loss: 1.2807
Epoch 73/150
3648/3889 [===========================>..] - ETA: 0s - loss: 1.2503
Epoch 00073: loss improved from 1.28071 to 1.26773, saving model to nextword1.h5
3889/3889 [==============================] - 2s 394us/sample - loss: 1.2677
Epoch 74/150
3648/3889 [===========================>..] - ETA: 0s - loss: 1.2162
Epoch 00074: loss improved from 1.26773 to 1.23261, saving model to nextword1.h5
3889/3889 [==============================] - 1s 313us/sample - loss: 1.2326
Epoch 75/150
3648/3889 [===========================>..] - ETA: 0s - loss: 1.1998
Epoch 00075: loss improved from 1.23261 to 1.22247, saving model to nextword1.h5
3889/3889 [==============================] - 1s 357us/sample - loss: 1.2225
Epoch 76/150
3648/3889 [===========================>..] - ETA: 0s - loss: 1.1733
Epoch 00076: loss improved from 1.22247 to 1.20326, saving model to nextword1.h5
3889/3889 [==============================] - 1s 341us/sample - loss: 1.2033
Epoch 77/150
3776/3889 [============================>.] - ETA: 0s - loss: 1.1803
Epoch 00077: loss improved from 1.20326 to 1.18947, saving model to nextword1.h5
3889/3889 [==============================] - 1s 343us/sample - loss: 1.1895
Epoch 78/150
3648/3889 [===========================>..] - ETA: 0s - loss: 1.1621
Epoch 00078: loss improved from 1.18947 to 1.17934, saving model to nextword1.h5
3889/3889 [==============================] - 1s 343us/sample - loss: 1.1793
Epoch 79/150
3776/3889 [============================>.] - ETA: 0s - loss: 1.1849
Epoch 00079: loss did not improve from 1.17934
3889/3889 [==============================] - 1s 244us/sample - loss: 1.1901
Epoch 80/150
3648/3889 [===========================>..] - ETA: 0s - loss: 1.1713
Epoch 00080: loss improved from 1.17934 to 1.17593, saving model to nextword1.h5
3889/3889 [==============================] - 1s 384us/sample - loss: 1.1759
Epoch 81/150
3648/3889 [===========================>..] - ETA: 0s - loss: 1.1598
Epoch 00081: loss did not improve from 1.17593
3889/3889 [==============================] - 1s 255us/sample - loss: 1.1792
Epoch 82/150
3648/3889 [===========================>..] - ETA: 0s - loss: 1.1384
Epoch 00082: loss improved from 1.17593 to 1.14731, saving model to nextword1.h5
3889/3889 [==============================] - 1s 305us/sample - loss: 1.1473
Epoch 83/150
3648/3889 [===========================>..] - ETA: 0s - loss: 1.1196
Epoch 00083: loss improved from 1.14731 to 1.13632, saving model to nextword1.h5
3889/3889 [==============================] - 1s 378us/sample - loss: 1.1363
Epoch 84/150
3648/3889 [===========================>..] - ETA: 0s - loss: 1.1390
Epoch 00084: loss did not improve from 1.13632
3889/3889 [==============================] - 1s 324us/sample - loss: 1.1542
Epoch 85/150
3648/3889 [===========================>..] - ETA: 0s - loss: 1.1067
Epoch 00085: loss improved from 1.13632 to 1.13034, saving model to nextword1.h5
3889/3889 [==============================] - 1s 317us/sample - loss: 1.1303
Epoch 86/150
3648/3889 [===========================>..] - ETA: 0s - loss: 1.0991
Epoch 00086: loss improved from 1.13034 to 1.11426, saving model to nextword1.h5
3889/3889 [==============================] - 1s 369us/sample - loss: 1.1143
Epoch 87/150
3648/3889 [===========================>..] - ETA: 0s - loss: 1.0856
Epoch 00087: loss improved from 1.11426 to 1.10867, saving model to nextword1.h5
3889/3889 [==============================] - 1s 378us/sample - loss: 1.1087
Epoch 88/150
3648/3889 [===========================>..] - ETA: 0s - loss: 1.0854
Epoch 00088: loss improved from 1.10867 to 1.09807, saving model to nextword1.h5
3889/3889 [==============================] - 2s 393us/sample - loss: 1.0981
Epoch 89/150
3648/3889 [===========================>..] - ETA: 0s - loss: 1.0814
Epoch 00089: loss improved from 1.09807 to 1.09314, saving model to nextword1.h5
3889/3889 [==============================] - 1s 371us/sample - loss: 1.0931
Epoch 90/150
3648/3889 [===========================>..] - ETA: 0s - loss: 1.0725
Epoch 00090: loss improved from 1.09314 to 1.08705, saving model to nextword1.h5
3889/3889 [==============================] - 2s 394us/sample - loss: 1.0870
Epoch 91/150
3648/3889 [===========================>..] - ETA: 0s - loss: 1.0691
Epoch 00091: loss improved from 1.08705 to 1.08696, saving model to nextword1.h5
3889/3889 [==============================] - 1s 370us/sample - loss: 1.0870
Epoch 92/150
3648/3889 [===========================>..] - ETA: 0s - loss: 1.0672
Epoch 00092: loss improved from 1.08696 to 1.07776, saving model to nextword1.h5
3889/3889 [==============================] - 1s 369us/sample - loss: 1.0778
Epoch 93/150
3648/3889 [===========================>..] - ETA: 0s - loss: 1.0441
Epoch 00093: loss improved from 1.07776 to 1.05813, saving model to nextword1.h5
3889/3889 [==============================] - 2s 390us/sample - loss: 1.0581
Epoch 94/150
3648/3889 [===========================>..] - ETA: 0s - loss: 1.0451
Epoch 00094: loss did not improve from 1.05813
3889/3889 [==============================] - 1s 241us/sample - loss: 1.0633
Epoch 95/150
3840/3889 [============================>.] - ETA: 0s - loss: 1.0503
Epoch 00095: loss improved from 1.05813 to 1.05076, saving model to nextword1.h5
3889/3889 [==============================] - 2s 394us/sample - loss: 1.0508
Epoch 96/150
3840/3889 [============================>.] - ETA: 0s - loss: 1.0671
Epoch 00096: loss did not improve from 1.05076
3889/3889 [==============================] - 1s 327us/sample - loss: 1.0668
Epoch 97/150
3648/3889 [===========================>..] - ETA: 0s - loss: 1.0559
Epoch 00097: loss did not improve from 1.05076
3889/3889 [==============================] - 1s 255us/sample - loss: 1.0644
Epoch 98/150
3648/3889 [===========================>..] - ETA: 0s - loss: 1.0557
Epoch 00098: loss did not improve from 1.05076

Epoch 00098: ReduceLROnPlateau reducing learning rate to 0.00020000000949949026.
3889/3889 [==============================] - 1s 279us/sample - loss: 1.0708
Epoch 99/150
3648/3889 [===========================>..] - ETA: 0s - loss: 0.8185
Epoch 00099: loss improved from 1.05076 to 0.81769, saving model to nextword1.h5
3889/3889 [==============================] - 1s 363us/sample - loss: 0.8177
Epoch 100/150
3648/3889 [===========================>..] - ETA: 0s - loss: 0.7314
Epoch 00100: loss improved from 0.81769 to 0.73557, saving model to nextword1.h5
3889/3889 [==============================] - 1s 362us/sample - loss: 0.7356
Epoch 101/150
3648/3889 [===========================>..] - ETA: 0s - loss: 0.7066
Epoch 00101: loss improved from 0.73557 to 0.70975, saving model to nextword1.h5
3889/3889 [==============================] - 1s 374us/sample - loss: 0.7097
Epoch 102/150
3648/3889 [===========================>..] - ETA: 0s - loss: 0.6923
Epoch 00102: loss improved from 0.70975 to 0.69729, saving model to nextword1.h5
3889/3889 [==============================] - 1s 377us/sample - loss: 0.6973
Epoch 103/150
3648/3889 [===========================>..] - ETA: 0s - loss: 0.6857
Epoch 00103: loss improved from 0.69729 to 0.69078, saving model to nextword1.h5
3889/3889 [==============================] - 1s 374us/sample - loss: 0.6908
Epoch 104/150
3648/3889 [===========================>..] - ETA: 0s - loss: 0.6814
Epoch 00104: loss improved from 0.69078 to 0.68539, saving model to nextword1.h5
3889/3889 [==============================] - 1s 372us/sample - loss: 0.6854
Epoch 105/150
3648/3889 [===========================>..] - ETA: 0s - loss: 0.6752- ETA: 0s - los
Epoch 00105: loss improved from 0.68539 to 0.68348, saving model to nextword1.h5
3889/3889 [==============================] - 2s 411us/sample - loss: 0.6835
Epoch 106/150
3648/3889 [===========================>..] - ETA: 0s - loss: 0.6793
Epoch 00106: loss improved from 0.68348 to 0.68141, saving model to nextword1.h5
3889/3889 [==============================] - 1s 381us/sample - loss: 0.6814
Epoch 107/150
3648/3889 [===========================>..] - ETA: 0s - loss: 0.6729
Epoch 00107: loss improved from 0.68141 to 0.67983, saving model to nextword1.h5
3889/3889 [==============================] - 2s 413us/sample - loss: 0.6798
Epoch 108/150
3648/3889 [===========================>..] - ETA: 0s - loss: 0.6734
Epoch 00108: loss did not improve from 0.67983
3889/3889 [==============================] - 1s 297us/sample - loss: 0.6801
Epoch 109/150
3648/3889 [===========================>..] - ETA: 0s - loss: 0.6769
Epoch 00109: loss improved from 0.67983 to 0.67935, saving model to nextword1.h5
3889/3889 [==============================] - 1s 314us/sample - loss: 0.6794
Epoch 110/150
3648/3889 [===========================>..] - ETA: 0s - loss: 0.6763
Epoch 00110: loss improved from 0.67935 to 0.67788, saving model to nextword1.h5
3889/3889 [==============================] - 1s 349us/sample - loss: 0.6779
Epoch 111/150
3648/3889 [===========================>..] - ETA: 0s - loss: 0.6808
Epoch 00111: loss did not improve from 0.67788
3889/3889 [==============================] - 1s 292us/sample - loss: 0.6784
Epoch 112/150
3648/3889 [===========================>..] - ETA: 0s - loss: 0.6728
Epoch 00112: loss did not improve from 0.67788
3889/3889 [==============================] - 1s 241us/sample - loss: 0.6782
Epoch 113/150
3648/3889 [===========================>..] - ETA: 0s - loss: 0.6707
Epoch 00113: loss improved from 0.67788 to 0.67655, saving model to nextword1.h5
3889/3889 [==============================] - 1s 312us/sample - loss: 0.6766
Epoch 114/150
3648/3889 [===========================>..] - ETA: 0s - loss: 0.6726
Epoch 00114: loss did not improve from 0.67655
3889/3889 [==============================] - 1s 236us/sample - loss: 0.6768
Epoch 115/150
3648/3889 [===========================>..] - ETA: 0s - loss: 0.6741
Epoch 00115: loss improved from 0.67655 to 0.67492, saving model to nextword1.h5
3889/3889 [==============================] - 1s 309us/sample - loss: 0.6749
Epoch 116/150
3648/3889 [===========================>..] - ETA: 0s - loss: 0.6697
Epoch 00116: loss did not improve from 0.67492
3889/3889 [==============================] - 1s 239us/sample - loss: 0.6767
Epoch 117/150
3648/3889 [===========================>..] - ETA: 0s - loss: 0.6695
Epoch 00117: loss did not improve from 0.67492
3889/3889 [==============================] - 1s 239us/sample - loss: 0.6762
Epoch 118/150
3648/3889 [===========================>..] - ETA: 0s - loss: 0.6687
Epoch 00118: loss did not improve from 0.67492

Epoch 00118: ReduceLROnPlateau reducing learning rate to 0.0001.
3889/3889 [==============================] - 1s 236us/sample - loss: 0.6754
Epoch 119/150
3648/3889 [===========================>..] - ETA: 0s - loss: 0.6331
Epoch 00119: loss improved from 0.67492 to 0.63376, saving model to nextword1.h5
3889/3889 [==============================] - 1s 312us/sample - loss: 0.6338
Epoch 120/150
3840/3889 [============================>.] - ETA: 0s - loss: 0.6335
Epoch 00120: loss improved from 0.63376 to 0.63225, saving model to nextword1.h5
3889/3889 [==============================] - 2s 389us/sample - loss: 0.6322
Epoch 121/150
3648/3889 [===========================>..] - ETA: 0s - loss: 0.6284
Epoch 00121: loss improved from 0.63225 to 0.63113, saving model to nextword1.h5
3889/3889 [==============================] - 1s 366us/sample - loss: 0.6311
Epoch 122/150
3648/3889 [===========================>..] - ETA: 0s - loss: 0.6256
Epoch 00122: loss did not improve from 0.63113
3889/3889 [==============================] - 1s 270us/sample - loss: 0.6321
Epoch 123/150
3648/3889 [===========================>..] - ETA: 0s - loss: 0.6317
Epoch 00123: loss did not improve from 0.63113
3889/3889 [==============================] - 1s 240us/sample - loss: 0.6312
Epoch 124/150
3648/3889 [===========================>..] - ETA: 0s - loss: 0.6226
Epoch 00124: loss improved from 0.63113 to 0.63077, saving model to nextword1.h5
3889/3889 [==============================] - 1s 307us/sample - loss: 0.6308
Epoch 125/150
3648/3889 [===========================>..] - ETA: 0s - loss: 0.6297
Epoch 00125: loss did not improve from 0.63077
3889/3889 [==============================] - 1s 239us/sample - loss: 0.6312
Epoch 126/150
3648/3889 [===========================>..] - ETA: 0s - loss: 0.6310
Epoch 00126: loss improved from 0.63077 to 0.62999, saving model to nextword1.h5
3889/3889 [==============================] - 2s 426us/sample - loss: 0.6300
Epoch 127/150
3840/3889 [============================>.] - ETA: 0s - loss: 0.6318
Epoch 00127: loss did not improve from 0.62999
3889/3889 [==============================] - 1s 255us/sample - loss: 0.6301
Epoch 128/150
3648/3889 [===========================>..] - ETA: 0s - loss: 0.6250
Epoch 00128: loss did not improve from 0.62999
3889/3889 [==============================] - 1s 270us/sample - loss: 0.6301
Epoch 129/150
3648/3889 [===========================>..] - ETA: 0s - loss: 0.6258
Epoch 00129: loss did not improve from 0.62999
3889/3889 [==============================] - 1s 252us/sample - loss: 0.6302
Epoch 130/150
3648/3889 [===========================>..] - ETA: 0s - loss: 0.6189
Epoch 00130: loss improved from 0.62999 to 0.62929, saving model to nextword1.h5
3889/3889 [==============================] - 1s 321us/sample - loss: 0.6293
Epoch 131/150
3648/3889 [===========================>..] - ETA: 0s - loss: 0.6209
Epoch 00131: loss improved from 0.62929 to 0.62818, saving model to nextword1.h5
3889/3889 [==============================] - 1s 375us/sample - loss: 0.6282
Epoch 132/150
3648/3889 [===========================>..] - ETA: 0s - loss: 0.6254
Epoch 00132: loss did not improve from 0.62818
3889/3889 [==============================] - 1s 327us/sample - loss: 0.6285
Epoch 133/150
3648/3889 [===========================>..] - ETA: 0s - loss: 0.6216
Epoch 00133: loss did not improve from 0.62818
3889/3889 [==============================] - 1s 252us/sample - loss: 0.6298
Epoch 134/150
3648/3889 [===========================>..] - ETA: 0s - loss: 0.6237
Epoch 00134: loss did not improve from 0.62818
3889/3889 [==============================] - 1s 238us/sample - loss: 0.6291
Epoch 135/150
3648/3889 [===========================>..] - ETA: 0s - loss: 0.6272
Epoch 00135: loss did not improve from 0.62818
3889/3889 [==============================] - 1s 285us/sample - loss: 0.6283
Epoch 136/150
3648/3889 [===========================>..] - ETA: 0s - loss: 0.6247
Epoch 00136: loss improved from 0.62818 to 0.62810, saving model to nextword1.h5
3889/3889 [==============================] - 1s 317us/sample - loss: 0.6281
Epoch 137/150
3648/3889 [===========================>..] - ETA: 0s - loss: 0.6254- ETA: 0s - loss: 0.62
Epoch 00137: loss did not improve from 0.62810
3889/3889 [==============================] - 1s 268us/sample - loss: 0.6291
Epoch 138/150
3648/3889 [===========================>..] - ETA: 0s - loss: 0.6234
Epoch 00138: loss improved from 0.62810 to 0.62745, saving model to nextword1.h5
3889/3889 [==============================] - 1s 331us/sample - loss: 0.6274
Epoch 139/150
3648/3889 [===========================>..] - ETA: 0s - loss: 0.6240
Epoch 00139: loss did not improve from 0.62745
3889/3889 [==============================] - 1s 235us/sample - loss: 0.6282
Epoch 140/150
3648/3889 [===========================>..] - ETA: 0s - loss: 0.6221
Epoch 00140: loss did not improve from 0.62745
3889/3889 [==============================] - 1s 274us/sample - loss: 0.6279
Epoch 141/150
3648/3889 [===========================>..] - ETA: 0s - loss: 0.6226
Epoch 00141: loss improved from 0.62745 to 0.62663, saving model to nextword1.h5
3889/3889 [==============================] - 1s 313us/sample - loss: 0.6266
Epoch 142/150
3776/3889 [============================>.] - ETA: 0s - loss: 0.6279
Epoch 00142: loss did not improve from 0.62663
3889/3889 [==============================] - 1s 319us/sample - loss: 0.6278
Epoch 143/150
3648/3889 [===========================>..] - ETA: 0s - loss: 0.6270
Epoch 00143: loss did not improve from 0.62663
3889/3889 [==============================] - 1s 249us/sample - loss: 0.6268
Epoch 144/150
3648/3889 [===========================>..] - ETA: 0s - loss: 0.6195
Epoch 00144: loss did not improve from 0.62663
3889/3889 [==============================] - 1s 239us/sample - loss: 0.6276
Epoch 145/150
3648/3889 [===========================>..] - ETA: 0s - loss: 0.6204
Epoch 00145: loss did not improve from 0.62663
3889/3889 [==============================] - 1s 239us/sample - loss: 0.6271
Epoch 146/150
3648/3889 [===========================>..] - ETA: 0s - loss: 0.6203
Epoch 00146: loss did not improve from 0.62663
3889/3889 [==============================] - 1s 239us/sample - loss: 0.6267
Epoch 147/150
3648/3889 [===========================>..] - ETA: 0s - loss: 0.6190
Epoch 00147: loss improved from 0.62663 to 0.62624, saving model to nextword1.h5
3889/3889 [==============================] - 2s 403us/sample - loss: 0.6262
Epoch 148/150
3648/3889 [===========================>..] - ETA: 0s - loss: 0.6177
Epoch 00148: loss improved from 0.62624 to 0.62619, saving model to nextword1.h5
3889/3889 [==============================] - 1s 375us/sample - loss: 0.6262
Epoch 149/150
3648/3889 [===========================>..] - ETA: 0s - loss: 0.6208
Epoch 00149: loss did not improve from 0.62619
3889/3889 [==============================] - 1s 290us/sample - loss: 0.6268
Epoch 150/150
3648/3889 [===========================>..] - ETA: 0s - loss: 0.6263
Epoch 00150: loss improved from 0.62619 to 0.62493, saving model to nextword1.h5
3889/3889 [==============================] - 1s 369us/sample - loss: 0.6249
<tensorflow.python.keras.callbacks.History at 0x20eef7fa308>
Graph:
# https://stackoverflow.com/questions/26649716/how-to-show-pil-image-in-ipython-notebook
# tensorboard --logdir="./logsnextword1"
# http://DESKTOP-U3TSCVT:6006/

from IPython.display import Image 
pil_img = Image(filename='graph1.png')
display(pil_img)

Observation:
We are able to develop a decent next word prediction model and are able to get a declining loss and an overall decent performance.
